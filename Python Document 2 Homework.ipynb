{
 "cells": [
  {
   "cell_type": "markdown",
   "id": "9c8b646c",
   "metadata": {},
   "source": [
    ".lstrip()\n",
    "string.lstrip()"
   ]
  },
  {
   "cell_type": "code",
   "execution_count": 3,
   "id": "c7823ed1",
   "metadata": {},
   "outputs": [
    {
     "name": "stdout",
     "output_type": "stream",
     "text": [
      "John Smith\n"
     ]
    }
   ],
   "source": [
    "name = \"    hJohn Smith\"\n",
    "stripped_name = name.lstrip(\" \" \"h\")\n",
    "print(stripped_name)"
   ]
  },
  {
   "cell_type": "markdown",
   "id": "f75064bb",
   "metadata": {},
   "source": [
    ".rstrip()\n",
    "string.rstrip()"
   ]
  },
  {
   "cell_type": "code",
   "execution_count": 4,
   "id": "7a8e5d41",
   "metadata": {},
   "outputs": [
    {
     "name": "stdout",
     "output_type": "stream",
     "text": [
      "Bill Ross\n"
     ]
    }
   ],
   "source": [
    "name = \"Bill Ross    th\"\n",
    "print(name.rstrip(\" \" \"th\"))"
   ]
  },
  {
   "cell_type": "markdown",
   "id": "350f0ac4",
   "metadata": {},
   "source": [
    ".strip()\n",
    "string.strip()"
   ]
  },
  {
   "cell_type": "code",
   "execution_count": 5,
   "id": "feb9f2f0",
   "metadata": {},
   "outputs": [
    {
     "name": "stdout",
     "output_type": "stream",
     "text": [
      "John Smith\n"
     ]
    }
   ],
   "source": [
    "name = \"   John Smith   \"\n",
    "print(name.strip())"
   ]
  },
  {
   "cell_type": "markdown",
   "id": "7f8e7d23",
   "metadata": {},
   "source": [
    ".title()\n",
    "string.title()"
   ]
  },
  {
   "cell_type": "code",
   "execution_count": 6,
   "id": "75099d58",
   "metadata": {},
   "outputs": [
    {
     "name": "stdout",
     "output_type": "stream",
     "text": [
      "Donald Trump\n"
     ]
    }
   ],
   "source": [
    "president = \"donald trump\"\n",
    "print(president.title())"
   ]
  },
  {
   "cell_type": "markdown",
   "id": "708e3786",
   "metadata": {},
   "source": [
    "String Exercise\n",
    "Strip all white space and capitalize every name in the list given.\n",
    "Hint: You will need to use a for loop for iteration."
   ]
  },
  {
   "cell_type": "code",
   "execution_count": 9,
   "id": "4ee24bb0",
   "metadata": {},
   "outputs": [
    {
     "name": "stdout",
     "output_type": "stream",
     "text": [
      "Connor\n",
      "Max\n",
      "Evan\n",
      "Jordan\n"
     ]
    }
   ],
   "source": [
    "names = [\"   coNNor\", \"max\", \"EVan\", \"JORDAN\"]\n",
    "for name in names:\n",
    "    print(name.strip().capitalize())"
   ]
  },
  {
   "cell_type": "markdown",
   "id": "1366d8b9",
   "metadata": {},
   "source": [
    "min()\n",
    "min(list)"
   ]
  },
  {
   "cell_type": "code",
   "execution_count": 10,
   "id": "84453104",
   "metadata": {},
   "outputs": [
    {
     "name": "stdout",
     "output_type": "stream",
     "text": [
      "4\n"
     ]
    }
   ],
   "source": [
    "numbers = [4, 5, 97, 54, 16]\n",
    "\n",
    "print(min(numbers))"
   ]
  },
  {
   "cell_type": "markdown",
   "id": "13fbd5cc",
   "metadata": {},
   "source": [
    "max()\n",
    "max(list)"
   ]
  },
  {
   "cell_type": "code",
   "execution_count": 11,
   "id": "c01394d9",
   "metadata": {},
   "outputs": [
    {
     "name": "stdout",
     "output_type": "stream",
     "text": [
      "97\n"
     ]
    }
   ],
   "source": [
    "print(max(numbers))"
   ]
  },
  {
   "cell_type": "markdown",
   "id": "fc0bcfd6",
   "metadata": {},
   "source": [
    "sum()\n",
    "sum(list)"
   ]
  },
  {
   "cell_type": "code",
   "execution_count": 12,
   "id": "cc687f59",
   "metadata": {},
   "outputs": [
    {
     "name": "stdout",
     "output_type": "stream",
     "text": [
      "176\n"
     ]
    }
   ],
   "source": [
    "print(sum(numbers))"
   ]
  },
  {
   "cell_type": "markdown",
   "id": "ff15e7b1",
   "metadata": {},
   "source": [
    "sorted()\n",
    "sorted(list)"
   ]
  },
  {
   "cell_type": "code",
   "execution_count": 14,
   "id": "254f0d09",
   "metadata": {},
   "outputs": [
    {
     "name": "stdout",
     "output_type": "stream",
     "text": [
      "[4, 5, 97, 54, 16]\n",
      "[4, 5, 16, 54, 97]\n"
     ]
    }
   ],
   "source": [
    "print(numbers)\n",
    "\n",
    "sorted_numbers = sorted(numbers)\n",
    "print(sorted_numbers)"
   ]
  },
  {
   "cell_type": "markdown",
   "id": "0101469d",
   "metadata": {},
   "source": [
    ".sort()\n",
    "list.sort()\n",
    "\n",
    "Difference between .sort and sorted is that sorted doesn't change original list. It returns a copy. While, .sort changes the original list."
   ]
  },
  {
   "cell_type": "code",
   "execution_count": 15,
   "id": "42617e2b",
   "metadata": {},
   "outputs": [
    {
     "name": "stdout",
     "output_type": "stream",
     "text": [
      "Before sort: [4, 5, 97, 54, 16]\n",
      "None\n",
      "[4, 5, 16, 54, 97]\n"
     ]
    }
   ],
   "source": [
    "print(f\"Before sort: {numbers}\")\n",
    "print(numbers.sort())\n",
    "print(numbers)"
   ]
  },
  {
   "cell_type": "markdown",
   "id": "d250e0fc",
   "metadata": {},
   "source": [
    "Copying a List\n",
    "[:] copies a list, doesn't alter original"
   ]
  },
  {
   "cell_type": "code",
   "execution_count": 16,
   "id": "719854ba",
   "metadata": {},
   "outputs": [
    {
     "name": "stdout",
     "output_type": "stream",
     "text": [
      "[4, 5, 16, 54, 97]\n"
     ]
    }
   ],
   "source": [
    "list_1 = numbers[:]\n",
    "print(list_1)"
   ]
  },
  {
   "cell_type": "markdown",
   "id": "4c1b829c",
   "metadata": {},
   "source": [
    "\"in\" keyword"
   ]
  },
  {
   "cell_type": "code",
   "execution_count": 19,
   "id": "4f85e9ba",
   "metadata": {},
   "outputs": [
    {
     "name": "stdout",
     "output_type": "stream",
     "text": [
      "Not Found\n",
      "Not Found\n",
      "Found\n",
      "Not Found\n",
      "Not Found\n"
     ]
    }
   ],
   "source": [
    "l_teachers = [\"Joel\", \"Derek\", \"Conner\", \"Brian\", \"Joe\"]\n",
    "\n",
    "# if \"Derek\" in l_teachers:\n",
    "#     print(\"Coding Temple instructor\")\n",
    "# else:\n",
    "#     print(\"Not an instructor\")\n",
    "\n",
    "for name in l_teachers:\n",
    "    if \"C\" in name:\n",
    "        print(\"Found\")\n",
    "    else:\n",
    "        print(\"Not Found\")"
   ]
  },
  {
   "cell_type": "markdown",
   "id": "441f0559",
   "metadata": {},
   "source": [
    "\"not in\" keyword"
   ]
  },
  {
   "cell_type": "code",
   "execution_count": 20,
   "id": "67098b85",
   "metadata": {},
   "outputs": [
    {
     "name": "stdout",
     "output_type": "stream",
     "text": [
      "Not a CT Instructor\n"
     ]
    }
   ],
   "source": [
    "if \"zack\" not in l_teachers:\n",
    "    print(\"Not a CT Instructor\")"
   ]
  },
  {
   "cell_type": "markdown",
   "id": "2bc94435",
   "metadata": {},
   "source": [
    "Checking an empty list"
   ]
  },
  {
   "cell_type": "code",
   "execution_count": 22,
   "id": "fcc9aafa",
   "metadata": {},
   "outputs": [
    {
     "name": "stdout",
     "output_type": "stream",
     "text": [
      "Is mayonnaise an instrument\n"
     ]
    }
   ],
   "source": [
    "list_2 = []\n",
    "\n",
    "if list_2 == []:\n",
    "    print(\"Is mayonnaise an instrument\")"
   ]
  },
  {
   "cell_type": "markdown",
   "id": "329270eb",
   "metadata": {},
   "source": [
    "Removing Instances with a Loop\n",
    "while, remove"
   ]
  },
  {
   "cell_type": "code",
   "execution_count": 24,
   "id": "348ac158",
   "metadata": {},
   "outputs": [
    {
     "name": "stdout",
     "output_type": "stream",
     "text": [
      "['Conner', 'Joel', 'Max', 'Rob']\n"
     ]
    }
   ],
   "source": [
    "names = [\"Conner\", \"Joel\", \"Max\", \"Evan\", \"Evan\", \"Rob\", \"Evan\"]\n",
    "\n",
    "while \"Evan\" in names:\n",
    "    names.remove(\"Evan\")\n",
    "print(names)\n",
    "\n",
    "# for name in names:\n",
    "#     if name == \"Evan\":\n",
    "#         names.remove(\"Evan\")\n",
    "# print(names)"
   ]
  },
  {
   "cell_type": "markdown",
   "id": "f43e9fb1",
   "metadata": {},
   "source": [
    "List Exercise\n",
    "Remove all duplicates.\n",
    "Extra: Create a program that will remove any duplicates from a given list.\n",
    "Hint 1: You will need an append\n",
    "Hint 2: Using an empty list will make life easier"
   ]
  },
  {
   "cell_type": "code",
   "execution_count": 25,
   "id": "f4f12b3a",
   "metadata": {},
   "outputs": [
    {
     "name": "stdout",
     "output_type": "stream",
     "text": [
      "['connor', 'bob', 'evan', 'max', 2, 3, 4, 'kevin']\n"
     ]
    }
   ],
   "source": [
    "names = [\"connor\", \"connor\", \"bob\", \"connor\", \"evan\", \"max\", \"evan\", 2, 2, 2, 3, 3, 4, \"bob\", \"kevin\"]\n",
    "\n",
    "new_list = []\n",
    "for name in names:\n",
    "    if name not in new_list:\n",
    "        new_list.append(name)\n",
    "print(new_list)"
   ]
  },
  {
   "cell_type": "markdown",
   "id": "168730b6",
   "metadata": {},
   "source": [
    "List Comprehensions\n",
    "In a list comprehension, we have a few pieces:\n",
    "\n",
    "1. The first is the tranform for the variable\n",
    "2. Then we have a counter/variable - IN this the variable is x\n",
    "3. The final part of a list comp is called the condition\n"
   ]
  },
  {
   "cell_type": "code",
   "execution_count": 30,
   "id": "38cf6ed3",
   "metadata": {},
   "outputs": [
    {
     "name": "stdout",
     "output_type": "stream",
     "text": [
      "[0, 4, 16, 36, 64, 100, 144, 196, 256, 324, 400, 484, 576, 676, 784, 900, 1024, 1156, 1296, 1444, 1600, 1764, 1936, 2116, 2304, 2500, 2704, 2916, 3136, 3364, 3600, 3844, 4096, 4356, 4624, 4900, 5184, 5476, 5776, 6084, 6400, 6724, 7056, 7396, 7744, 8100, 8464, 8836, 9216, 9604]\n",
      "\n",
      "\n",
      "[0, 4, 16, 36, 64, 100, 144, 196, 256, 324, 400, 484, 576, 676, 784, 900, 1024, 1156, 1296, 1444, 1600, 1764, 1936, 2116, 2304, 2500, 2704, 2916, 3136, 3364, 3600, 3844, 4096, 4356, 4624, 4900, 5184, 5476, 5776, 6084, 6400, 6724, 7056, 7396, 7744, 8100, 8464, 8836, 9216, 9604]\n"
     ]
    }
   ],
   "source": [
    "# Number Comprehension\n",
    "\n",
    "# With a regular for loop\n",
    "\n",
    "nums = []\n",
    "\n",
    "for i in range(100):\n",
    "    if i % 2 == 0:\n",
    "        nums.append(i**2)\n",
    "print(nums)\n",
    "\n",
    "# (transform, variable, condition)\n",
    "\n",
    "print(\"\\n\")\n",
    "\n",
    "nums_comp = [i**2 for i in range(100) if i % 2 == 0]\n",
    "print(nums_comp)"
   ]
  },
  {
   "cell_type": "markdown",
   "id": "61521252",
   "metadata": {},
   "source": [
    "There a few benefits to using List Comprehensions. The most obvious is shorter code to work with instead of using 3+ lines of code in the for loop variant. Another is an added benefit to memory usage. Since the list's memory is allocated first before adding elements to it, we don't have to resize the list once we add elements to it. Finally, list comps are considered the \"pythonic\" way to write code by the PEP8 standards."
   ]
  },
  {
   "cell_type": "code",
   "execution_count": 33,
   "id": "affdc0ac",
   "metadata": {},
   "outputs": [
    {
     "name": "stdout",
     "output_type": "stream",
     "text": [
      "[0, 1, 4, 9, 16, 25, 36, 49, 64, 81]\n",
      "\n",
      "\n",
      "[0, 1, 4, 9, 16, 25, 36, 49, 64, 81]\n"
     ]
    }
   ],
   "source": [
    "# Square Number Comprehension\n",
    "\n",
    "print([x**2 for x in range(10)])  #new way\n",
    "\n",
    "print(\"\\n\")\n",
    "\n",
    "squares_reg = []   #old way\n",
    "for x in range(10):\n",
    "    squares_reg.append(x**2)\n",
    "print(squares_reg)"
   ]
  },
  {
   "cell_type": "code",
   "execution_count": 35,
   "id": "1d99f919",
   "metadata": {},
   "outputs": [
    {
     "name": "stdout",
     "output_type": "stream",
     "text": [
      "['C', 'M', 'E', 'R']\n",
      "['C', 'M', 'E', 'R']\n"
     ]
    }
   ],
   "source": [
    "# String Comprehension\n",
    "\n",
    "names = [\"Conner\", \"Max\", \"Evan\", \"Rob\"]\n",
    "\n",
    "first_char_comp = [name[0] for name in names]   #new way\n",
    "print(first_char_comp)\n",
    "\n",
    "first_char = []\n",
    "\n",
    "for name in names:   #old way\n",
    "    first_char.append(name[0])\n",
    "print(first_char)"
   ]
  },
  {
   "cell_type": "code",
   "execution_count": 40,
   "id": "194c67af",
   "metadata": {},
   "outputs": [
    {
     "name": "stdout",
     "output_type": "stream",
     "text": [
      "['Conner']\n",
      "['Conner']\n"
     ]
    }
   ],
   "source": [
    "c_names = [first_name for first_name in names if first_name[0] == \"C\"]   #new way\n",
    "print(c_names)\n",
    "\n",
    "c_names_reg = []   #old way\n",
    "\n",
    "for first_name in names:\n",
    "    if first_name[0] == \"C\":\n",
    "        c_names_reg.append(first_name)\n",
    "print(c_names_reg)"
   ]
  },
  {
   "cell_type": "markdown",
   "id": "a80c5616",
   "metadata": {},
   "source": [
    "Tuples\n",
    "\n",
    "Defined as an immutable list (meaning - cannot change lists)\n",
    "Separated by commas using parenthesis"
   ]
  },
  {
   "cell_type": "code",
   "execution_count": 43,
   "id": "f5c84ac4",
   "metadata": {},
   "outputs": [
    {
     "name": "stdout",
     "output_type": "stream",
     "text": [
      "1\n",
      "3\n",
      "1\n",
      "2\n",
      "3\n",
      "1\n",
      "2\n",
      "3\n"
     ]
    }
   ],
   "source": [
    "tup_1 = 1, 2, 3   #First way of creating a tuple\n",
    "tup_2 = (1,2,3)   #Other way of creating a tuple\n",
    "\n",
    "# print(type(tup_1))\n",
    "# print(type(tup_2))\n",
    "\n",
    "print(tup_1[0])\n",
    "\n",
    "print(len(tup_1))\n",
    "\n",
    "# Looping over tuples\n",
    "for number in tup_1:\n",
    "    print(number)\n",
    "    \n",
    "# Looping over a tuple with an index using range and len\n",
    "for number in range(len(tup_1)):\n",
    "    print(tup_1[number])"
   ]
  },
  {
   "cell_type": "markdown",
   "id": "0ca7ad74",
   "metadata": {},
   "source": [
    "sorted() - Will return a list"
   ]
  },
  {
   "cell_type": "code",
   "execution_count": 46,
   "id": "0caca895",
   "metadata": {},
   "outputs": [
    {
     "name": "stdout",
     "output_type": "stream",
     "text": [
      "[1, 3, 5, 9, 20, 45]\n",
      "(1, 3, 3, 4, 5, 9, 20, 33, 45, 66, 77)\n",
      "<class 'list'>\n",
      "(20, 5, 1, 3, 9, 45)\n"
     ]
    }
   ],
   "source": [
    "tup_3 = (20, 5, 1, 3, 9, 45)\n",
    "\n",
    "sorted_tup = sorted(tup_3)\n",
    "print(sorted_tup)\n",
    "\n",
    "random_list = [3, 4, 66, 77, 33]\n",
    "combine_list = sorted(sorted_tup + random_list)\n",
    "\n",
    "new_tup = tuple(combine_list)\n",
    "\n",
    "print(new_tup)\n",
    "print(type(sorted_tup))\n",
    "print(tup_3)"
   ]
  },
  {
   "cell_type": "markdown",
   "id": "002e5f5d",
   "metadata": {},
   "source": [
    "Adding values to a tuple"
   ]
  },
  {
   "cell_type": "code",
   "execution_count": 47,
   "id": "9b4bd6cb",
   "metadata": {},
   "outputs": [
    {
     "name": "stdout",
     "output_type": "stream",
     "text": [
      "(1, 2, 3)\n",
      "(1, 2, 3, 5)\n"
     ]
    }
   ],
   "source": [
    "print(tup_1)\n",
    "\n",
    "tup_1 = tup_1 + (5,)\n",
    "print(tup_1)"
   ]
  },
  {
   "cell_type": "markdown",
   "id": "a9c301be",
   "metadata": {},
   "source": [
    "Functions\n",
    "\n",
    "User-Defined vs. Built-in Functions"
   ]
  },
  {
   "cell_type": "code",
   "execution_count": 49,
   "id": "4aed01f0",
   "metadata": {},
   "outputs": [
    {
     "name": "stdout",
     "output_type": "stream",
     "text": [
      "Hello World\n"
     ]
    }
   ],
   "source": [
    "# User-Defined\n",
    "\n",
    "def sayHello():\n",
    "    return \"Hello World\"\n",
    "\n",
    "sayHello()\n"
   ]
  },
  {
   "cell_type": "markdown",
   "id": "d6db06a9",
   "metadata": {},
   "source": [
    "Accepting Parameters"
   ]
  },
  {
   "cell_type": "code",
   "execution_count": 54,
   "id": "9d0c5c16",
   "metadata": {},
   "outputs": [
    {
     "name": "stdout",
     "output_type": "stream",
     "text": [
      "What is your first name? Brandon\n"
     ]
    },
    {
     "data": {
      "text/plain": [
       "'Hello, Brandon Apol'"
      ]
     },
     "execution_count": 54,
     "metadata": {},
     "output_type": "execute_result"
    }
   ],
   "source": [
    "# Arguments or Parameters\n",
    "# Order matters\n",
    "# a variable can be of any type of object\n",
    "\n",
    "def printFullName(first_name, last_name):\n",
    "    return f'Hello, {first_name} {last_name}'\n",
    "\n",
    "a_name = input(\"What is your first name? \")\n",
    "\n",
    "printFullName(\"Joel\", \"Carter\")\n",
    "printFullName(a_name, \"Apol\")"
   ]
  },
  {
   "cell_type": "markdown",
   "id": "b3d1c884",
   "metadata": {},
   "source": [
    "Default Parameters"
   ]
  },
  {
   "cell_type": "code",
   "execution_count": 56,
   "id": "089a49d4",
   "metadata": {},
   "outputs": [
    {
     "name": "stdout",
     "output_type": "stream",
     "text": [
      "The name is Bond...James Bond!\n"
     ]
    }
   ],
   "source": [
    "# Default parameters need to be declared AFTER non-default parameters each time\n",
    "\n",
    "def printAgentName(first_name, last_name = \"Bond\"):\n",
    "    return f\"The name is {last_name}...{first_name} {last_name}!\"\n",
    "\n",
    "print(printAgentName('James'))\n",
    "\n",
    "# DON'T DO THIS!\n",
    "# def printAgentAgain(last_name = \"ever\", first_name):\n",
    "#     return f\"Last name {last_name}, first name {first_name}!\"\n",
    "\n",
    "# print(printAgentAgain(first_name = \"Greatest\"))"
   ]
  },
  {
   "cell_type": "markdown",
   "id": "7a1616af",
   "metadata": {},
   "source": [
    "Making an argument optional"
   ]
  },
  {
   "cell_type": "code",
   "execution_count": 58,
   "id": "4aa17774",
   "metadata": {},
   "outputs": [
    {
     "data": {
      "text/plain": [
       "'Hello Mr  Ed'"
      ]
     },
     "execution_count": 58,
     "metadata": {},
     "output_type": "execute_result"
    }
   ],
   "source": [
    "def printHorseName(first, middle = '', last = 'Ed'):\n",
    "    return f'Hello {first} {middle} {last}'\n",
    "    \n",
    "printHorseName('Mr')"
   ]
  },
  {
   "cell_type": "markdown",
   "id": "3ea5e3e7",
   "metadata": {},
   "source": [
    "Keyword Arguments"
   ]
  },
  {
   "cell_type": "code",
   "execution_count": 60,
   "id": "aaf70f4b",
   "metadata": {},
   "outputs": [
    {
     "data": {
      "text/plain": [
       "\"The hero's name is Spider Man and superpower is Spidey Sense\""
      ]
     },
     "execution_count": 60,
     "metadata": {},
     "output_type": "execute_result"
    }
   ],
   "source": [
    "def printSuperHero(name, power = 'flying'):\n",
    "    return f\"The hero's name is {name} and superpower is {power}\"\n",
    "\n",
    "printSuperHero(power = 'Spidey Sense', name = 'Spider Man')"
   ]
  },
  {
   "cell_type": "markdown",
   "id": "a3fb1de0",
   "metadata": {},
   "source": [
    "Creating a start, stop, step function"
   ]
  },
  {
   "cell_type": "code",
   "execution_count": 64,
   "id": "5678d666",
   "metadata": {},
   "outputs": [
    {
     "name": "stdout",
     "output_type": "stream",
     "text": [
      "5\n",
      "7\n",
      "9\n",
      "11\n",
      "13\n",
      "15\n",
      "17\n",
      "19\n"
     ]
    }
   ],
   "source": [
    "def my_range(stop, start=0, step=1):\n",
    "    for i in range(start,stop,step):\n",
    "        print(i)\n",
    "        \n",
    "my_range(20,5,2)"
   ]
  },
  {
   "cell_type": "markdown",
   "id": "d49c5d34",
   "metadata": {},
   "source": [
    "Returning Values"
   ]
  },
  {
   "cell_type": "code",
   "execution_count": 65,
   "id": "09af9353",
   "metadata": {},
   "outputs": [
    {
     "data": {
      "text/plain": [
       "7"
      ]
     },
     "execution_count": 65,
     "metadata": {},
     "output_type": "execute_result"
    }
   ],
   "source": [
    "def addNums(num1, num2):\n",
    "    return num1 + num2\n",
    "\n",
    "addNums(5,2)"
   ]
  },
  {
   "cell_type": "markdown",
   "id": "31bdbe46",
   "metadata": {},
   "source": [
    "*args"
   ]
  },
  {
   "cell_type": "code",
   "execution_count": 67,
   "id": "b7567375",
   "metadata": {},
   "outputs": [
    {
     "name": "stdout",
     "output_type": "stream",
     "text": [
      "36\n",
      "('DragonZord', 'vanilla', 2, 3)\n",
      "{'testing': 'joel'}\n",
      "DragonZord\n",
      "vanilla\n",
      "2\n",
      "3\n",
      "testing\n"
     ]
    }
   ],
   "source": [
    "# args stands for arguments, and takes ANY number of arguments as parameters\n",
    "# Must be last if multiple parameters are present\n",
    "\n",
    "def printArgs(num1, *args, **kwargs):\n",
    "    print(num1)\n",
    "    print(args)\n",
    "    print(kwargs)\n",
    "    \n",
    "    for arg in args:\n",
    "        print(arg)\n",
    "        \n",
    "    for kwarg in kwargs:\n",
    "        print(kwarg)\n",
    "    \n",
    "printArgs(36, 'DragonZord', 'vanilla', 2, 3, testing='joel')"
   ]
  },
  {
   "cell_type": "markdown",
   "id": "69e5c3fa",
   "metadata": {},
   "source": [
    "Docstring"
   ]
  },
  {
   "cell_type": "code",
   "execution_count": 68,
   "id": "108f89ec",
   "metadata": {},
   "outputs": [
    {
     "name": "stdout",
     "output_type": "stream",
     "text": [
      "George\n",
      "Ramon\n",
      "Peter\n",
      "Help on function printNames in module __main__:\n",
      "\n",
      "printNames(list_1)\n",
      "    printNames(list_1)\n",
      "    Function requires a list to be passed as a parameter\n",
      "    and will print the contents of the list. Expecting a list of\n",
      "    names(strings) to be passed.\n",
      "\n"
     ]
    }
   ],
   "source": [
    "def printNames(list_1):\n",
    "    '''\n",
    "        printNames(list_1)\n",
    "        Function requires a list to be passed as a parameter\n",
    "        and will print the contents of the list. Expecting a list of\n",
    "        names(strings) to be passed.\n",
    "    '''\n",
    "    for name in list_1:\n",
    "        print(name)\n",
    "        \n",
    "printNames(['George', 'Ramon', 'Peter'])\n",
    "help(printNames)"
   ]
  },
  {
   "cell_type": "markdown",
   "id": "121988eb",
   "metadata": {},
   "source": [
    "Using a User Function in a Loop"
   ]
  },
  {
   "cell_type": "code",
   "execution_count": 79,
   "id": "02b781b8",
   "metadata": {},
   "outputs": [
    {
     "ename": "KeyboardInterrupt",
     "evalue": "Interrupted by user",
     "output_type": "error",
     "traceback": [
      "\u001b[0;31m---------------------------------------------------------------------------\u001b[0m",
      "\u001b[0;31mKeyboardInterrupt\u001b[0m                         Traceback (most recent call last)",
      "\u001b[0;32m/var/folders/46/xgfkmqx548z2xc22t05jpgz80000gn/T/ipykernel_67921/3406681276.py\u001b[0m in \u001b[0;36m<module>\u001b[0;34m\u001b[0m\n\u001b[1;32m      2\u001b[0m     \u001b[0mprint\u001b[0m\u001b[0;34m(\u001b[0m\u001b[0manswer\u001b[0m\u001b[0;34m)\u001b[0m\u001b[0;34m\u001b[0m\u001b[0;34m\u001b[0m\u001b[0m\n\u001b[1;32m      3\u001b[0m \u001b[0;34m\u001b[0m\u001b[0m\n\u001b[0;32m----> 4\u001b[0;31m \u001b[0mresponse\u001b[0m \u001b[0;34m=\u001b[0m \u001b[0minput\u001b[0m\u001b[0;34m(\u001b[0m\u001b[0;34m'Are you ready to quit? '\u001b[0m\u001b[0;34m)\u001b[0m\u001b[0;34m\u001b[0m\u001b[0;34m\u001b[0m\u001b[0m\n\u001b[0m\u001b[1;32m      5\u001b[0m \u001b[0;34m\u001b[0m\u001b[0m\n\u001b[1;32m      6\u001b[0m \u001b[0;32mwhile\u001b[0m \u001b[0;32mTrue\u001b[0m\u001b[0;34m:\u001b[0m\u001b[0;34m\u001b[0m\u001b[0;34m\u001b[0m\u001b[0m\n",
      "\u001b[0;32m~/opt/anaconda3/lib/python3.9/site-packages/ipykernel/kernelbase.py\u001b[0m in \u001b[0;36mraw_input\u001b[0;34m(self, prompt)\u001b[0m\n\u001b[1;32m   1175\u001b[0m                 \u001b[0;34m\"raw_input was called, but this frontend does not support input requests.\"\u001b[0m\u001b[0;34m\u001b[0m\u001b[0;34m\u001b[0m\u001b[0m\n\u001b[1;32m   1176\u001b[0m             )\n\u001b[0;32m-> 1177\u001b[0;31m         return self._input_request(\n\u001b[0m\u001b[1;32m   1178\u001b[0m             \u001b[0mstr\u001b[0m\u001b[0;34m(\u001b[0m\u001b[0mprompt\u001b[0m\u001b[0;34m)\u001b[0m\u001b[0;34m,\u001b[0m\u001b[0;34m\u001b[0m\u001b[0;34m\u001b[0m\u001b[0m\n\u001b[1;32m   1179\u001b[0m             \u001b[0mself\u001b[0m\u001b[0;34m.\u001b[0m\u001b[0m_parent_ident\u001b[0m\u001b[0;34m[\u001b[0m\u001b[0;34m\"shell\"\u001b[0m\u001b[0;34m]\u001b[0m\u001b[0;34m,\u001b[0m\u001b[0;34m\u001b[0m\u001b[0;34m\u001b[0m\u001b[0m\n",
      "\u001b[0;32m~/opt/anaconda3/lib/python3.9/site-packages/ipykernel/kernelbase.py\u001b[0m in \u001b[0;36m_input_request\u001b[0;34m(self, prompt, ident, parent, password)\u001b[0m\n\u001b[1;32m   1217\u001b[0m             \u001b[0;32mexcept\u001b[0m \u001b[0mKeyboardInterrupt\u001b[0m\u001b[0;34m:\u001b[0m\u001b[0;34m\u001b[0m\u001b[0;34m\u001b[0m\u001b[0m\n\u001b[1;32m   1218\u001b[0m                 \u001b[0;31m# re-raise KeyboardInterrupt, to truncate traceback\u001b[0m\u001b[0;34m\u001b[0m\u001b[0;34m\u001b[0m\u001b[0m\n\u001b[0;32m-> 1219\u001b[0;31m                 \u001b[0;32mraise\u001b[0m \u001b[0mKeyboardInterrupt\u001b[0m\u001b[0;34m(\u001b[0m\u001b[0;34m\"Interrupted by user\"\u001b[0m\u001b[0;34m)\u001b[0m \u001b[0;32mfrom\u001b[0m \u001b[0;32mNone\u001b[0m\u001b[0;34m\u001b[0m\u001b[0;34m\u001b[0m\u001b[0m\n\u001b[0m\u001b[1;32m   1220\u001b[0m             \u001b[0;32mexcept\u001b[0m \u001b[0mException\u001b[0m\u001b[0;34m:\u001b[0m\u001b[0;34m\u001b[0m\u001b[0;34m\u001b[0m\u001b[0m\n\u001b[1;32m   1221\u001b[0m                 \u001b[0mself\u001b[0m\u001b[0;34m.\u001b[0m\u001b[0mlog\u001b[0m\u001b[0;34m.\u001b[0m\u001b[0mwarning\u001b[0m\u001b[0;34m(\u001b[0m\u001b[0;34m\"Invalid Message:\"\u001b[0m\u001b[0;34m,\u001b[0m \u001b[0mexc_info\u001b[0m\u001b[0;34m=\u001b[0m\u001b[0;32mTrue\u001b[0m\u001b[0;34m)\u001b[0m\u001b[0;34m\u001b[0m\u001b[0;34m\u001b[0m\u001b[0m\n",
      "\u001b[0;31mKeyboardInterrupt\u001b[0m: Interrupted by user"
     ]
    }
   ],
   "source": [
    "def printInput(answer):\n",
    "    print(answer)\n",
    "    \n",
    "response = input('Are you ready to quit? ')\n",
    "\n",
    "while True:\n",
    "    ask = input('What do you want to do? ')\n",
    "    printInput(ask)\n",
    "    \n",
    "    response = input('Ready yet? ')\n",
    "    if response.lower() == 'Quit':\n",
    "        break"
   ]
  },
  {
   "cell_type": "markdown",
   "id": "3042be7b",
   "metadata": {},
   "source": [
    "Function Exercise\n",
    "\n",
    "Write a function that loops through a list of first_names and a list of last_names, combines the two and returns a list of full_names"
   ]
  },
  {
   "cell_type": "code",
   "execution_count": 94,
   "id": "568a1a14",
   "metadata": {},
   "outputs": [
    {
     "name": "stdout",
     "output_type": "stream",
     "text": [
      "['John Smith', 'Evan Smith', 'Jordan Williams', 'Max Bell']\n"
     ]
    }
   ],
   "source": [
    "# Output: ['John Smith', 'Evan Smith', 'Jordan Williams', 'Max Bell']\n",
    "\n",
    "def combine_names(first_names, last_names):\n",
    "    full_names = []\n",
    "    for i in range(len(first_names)):\n",
    "\n",
    "        full_names.append(first_names[i] + ' ' + last_names[i])\n",
    "    return full_names\n",
    "\n",
    "first_name = ['John', 'Evan', 'Jordan', 'Max']\n",
    "last_name = ['Smith', 'Smith', 'Williams', 'Bell']\n",
    "\n",
    "print(combine_names(first_name, last_name))"
   ]
  },
  {
   "cell_type": "markdown",
   "id": "62abe08a",
   "metadata": {},
   "source": [
    "Scope\n",
    "\n",
    "Scope refers to the ability to access variables, different types of scope include:\n",
    "a) Global\n",
    "b) Function (local)\n",
    "c) Class (local)"
   ]
  },
  {
   "cell_type": "code",
   "execution_count": 82,
   "id": "b74a6537",
   "metadata": {},
   "outputs": [
    {
     "name": "stdout",
     "output_type": "stream",
     "text": [
      "3\n",
      "6\n"
     ]
    }
   ],
   "source": [
    "number = 3 # Global variable; accessible ANYWHERE in my code now\n",
    "\n",
    "def myFunc():\n",
    "    number = 6 # Local function variable\n",
    "    return number\n",
    "\n",
    "print(number)\n",
    "print(myFunc())"
   ]
  },
  {
   "cell_type": "markdown",
   "id": "acd27243",
   "metadata": {},
   "source": [
    "Exercise 1\n",
    "\n",
    "Given a list as a parameter, write a function that returns a list of numbers that are less than ten.\n",
    "\n",
    "example: Say your input parameter to the function is [1,11,14,5,8,9]...Your output should be [1,5,8,9]."
   ]
  },
  {
   "cell_type": "code",
   "execution_count": 96,
   "id": "4094d408",
   "metadata": {},
   "outputs": [
    {
     "name": "stdout",
     "output_type": "stream",
     "text": [
      "[1, 5, 8, 9]\n"
     ]
    }
   ],
   "source": [
    "# Use the following list - [1,11,14,5,8,9]\n",
    "\n",
    "def nums_less_ten(numbers):\n",
    "    result = []\n",
    "    for number in numbers:\n",
    "        if number < 10:\n",
    "\n",
    "            result.append(number)\n",
    "    return result\n",
    "\n",
    "list_1 = [1,11,14,5,8,9]\n",
    "print(nums_less_ten(list_1))"
   ]
  },
  {
   "cell_type": "markdown",
   "id": "a52752f2",
   "metadata": {},
   "source": [
    "Exercise 2\n",
    "\n",
    "Write a function that takes in two lists and returns the two lists merged together and sorted.\n",
    "Hint: You can use the .sort() method."
   ]
  },
  {
   "cell_type": "code",
   "execution_count": 88,
   "id": "49711b2c",
   "metadata": {},
   "outputs": [
    {
     "name": "stdout",
     "output_type": "stream",
     "text": [
      "[1, 2, 3, 3, 4, 4, 5, 5, 6, 6, 7, 8, 10]\n"
     ]
    }
   ],
   "source": [
    "def merge_sort(list_1, list_2):\n",
    "    result = list_1 + list_2\n",
    "    result.sort()\n",
    "    return result\n",
    "\n",
    "list_1 = [1,2,3,4,5,6]\n",
    "list_2 = [3,4,5,6,7,8,10]\n",
    "\n",
    "print(merge_sort(list_1, list_2))"
   ]
  }
 ],
 "metadata": {
  "kernelspec": {
   "display_name": "Python 3 (ipykernel)",
   "language": "python",
   "name": "python3"
  },
  "language_info": {
   "codemirror_mode": {
    "name": "ipython",
    "version": 3
   },
   "file_extension": ".py",
   "mimetype": "text/x-python",
   "name": "python",
   "nbconvert_exporter": "python",
   "pygments_lexer": "ipython3",
   "version": "3.9.13"
  }
 },
 "nbformat": 4,
 "nbformat_minor": 5
}
